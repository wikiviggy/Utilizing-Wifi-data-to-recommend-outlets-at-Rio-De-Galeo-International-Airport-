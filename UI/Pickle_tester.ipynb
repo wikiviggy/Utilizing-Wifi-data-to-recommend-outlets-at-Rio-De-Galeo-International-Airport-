{
  "nbformat": 4,
  "nbformat_minor": 0,
  "metadata": {
    "colab": {
      "name": "Pickle_tester.ipynb",
      "provenance": [],
      "collapsed_sections": []
    },
    "kernelspec": {
      "name": "python3",
      "display_name": "Python 3"
    }
  },
  "cells": [
    {
      "cell_type": "code",
      "metadata": {
        "id": "FlW5E4QOoQzY",
        "colab_type": "code",
        "colab": {}
      },
      "source": [
        "import numpy as np\n",
        "from flask import Flask, request, jsonify, render_template"
      ],
      "execution_count": 0,
      "outputs": []
    },
    {
      "cell_type": "code",
      "metadata": {
        "id": "4pL7DXDThxwJ",
        "colab_type": "code",
        "colab": {}
      },
      "source": [
        "import pickle\n",
        "import requests"
      ],
      "execution_count": 0,
      "outputs": []
    },
    {
      "cell_type": "code",
      "metadata": {
        "id": "DmdM8PWsGWS8",
        "colab_type": "code",
        "outputId": "a7fca126-43ce-434c-eb71-ca4e7d7aa1f9",
        "colab": {
          "base_uri": "https://localhost:8080/",
          "height": 221
        }
      },
      "source": [
        "!pip install flask-ngrok"
      ],
      "execution_count": 0,
      "outputs": [
        {
          "output_type": "stream",
          "text": [
            "Requirement already satisfied: flask-ngrok in /usr/local/lib/python3.6/dist-packages (0.0.25)\n",
            "Requirement already satisfied: requests in /usr/local/lib/python3.6/dist-packages (from flask-ngrok) (2.23.0)\n",
            "Requirement already satisfied: Flask>=0.8 in /usr/local/lib/python3.6/dist-packages (from flask-ngrok) (1.1.2)\n",
            "Requirement already satisfied: idna<3,>=2.5 in /usr/local/lib/python3.6/dist-packages (from requests->flask-ngrok) (2.9)\n",
            "Requirement already satisfied: certifi>=2017.4.17 in /usr/local/lib/python3.6/dist-packages (from requests->flask-ngrok) (2020.4.5.1)\n",
            "Requirement already satisfied: urllib3!=1.25.0,!=1.25.1,<1.26,>=1.21.1 in /usr/local/lib/python3.6/dist-packages (from requests->flask-ngrok) (1.24.3)\n",
            "Requirement already satisfied: chardet<4,>=3.0.2 in /usr/local/lib/python3.6/dist-packages (from requests->flask-ngrok) (3.0.4)\n",
            "Requirement already satisfied: Werkzeug>=0.15 in /usr/local/lib/python3.6/dist-packages (from Flask>=0.8->flask-ngrok) (1.0.1)\n",
            "Requirement already satisfied: itsdangerous>=0.24 in /usr/local/lib/python3.6/dist-packages (from Flask>=0.8->flask-ngrok) (1.1.0)\n",
            "Requirement already satisfied: click>=5.1 in /usr/local/lib/python3.6/dist-packages (from Flask>=0.8->flask-ngrok) (7.1.2)\n",
            "Requirement already satisfied: Jinja2>=2.10.1 in /usr/local/lib/python3.6/dist-packages (from Flask>=0.8->flask-ngrok) (2.11.2)\n",
            "Requirement already satisfied: MarkupSafe>=0.23 in /usr/local/lib/python3.6/dist-packages (from Jinja2>=2.10.1->Flask>=0.8->flask-ngrok) (1.1.1)\n"
          ],
          "name": "stdout"
        }
      ]
    },
    {
      "cell_type": "code",
      "metadata": {
        "id": "te5PRrqvvHZn",
        "colab_type": "code",
        "outputId": "097e5fd3-10cd-4200-bd84-634ea0645590",
        "colab": {
          "base_uri": "https://localhost:8080/",
          "height": 34
        }
      },
      "source": [
        "!pwd"
      ],
      "execution_count": 0,
      "outputs": [
        {
          "output_type": "stream",
          "text": [
            "/content\n"
          ],
          "name": "stdout"
        }
      ]
    },
    {
      "cell_type": "code",
      "metadata": {
        "id": "ITOacrKJvI5D",
        "colab_type": "code",
        "colab": {}
      },
      "source": [
        "\n",
        "import os\n",
        "#==========CHANGE FILE PATH TO APP FOLDER==========#\n",
        "rootPath = '/content/drive/Shared drives/INF560/INF560_project/app'\n",
        "\n",
        "#==========CHANGE FILE PATH TO PICKLE FILES FOLDER==========#\n",
        "file_path = '/content/drive/Shared drives/INF560/INF560_project/pickles'\n",
        "pickle_files=os.listdir(file_path)\n",
        "\n",
        "path1=[]\n",
        "for i in range(len(pickle_files)):\n",
        "    path1.append(pickle.load(open(file_path + '/' + pickle_files[i],'rb')))\n",
        "\n",
        "for n, val in enumerate(path1,start=1):\n",
        "    globals()[\"pickle_loc%d\"%n] = val"
      ],
      "execution_count": 0,
      "outputs": []
    },
    {
      "cell_type": "code",
      "metadata": {
        "id": "SoeTaCQGGXdX",
        "colab_type": "code",
        "colab": {}
      },
      "source": [
        "from flask import Flask\n",
        "from flask import request\n",
        "from flask_ngrok import run_with_ngrok\n",
        "from flask import send_file"
      ],
      "execution_count": 0,
      "outputs": []
    },
    {
      "cell_type": "code",
      "metadata": {
        "id": "_A8XagdbWG2o",
        "colab_type": "code",
        "colab": {}
      },
      "source": [
        "import flask"
      ],
      "execution_count": 0,
      "outputs": []
    },
    {
      "cell_type": "code",
      "metadata": {
        "id": "55ZNJCO1oXZK",
        "colab_type": "code",
        "colab": {}
      },
      "source": [
        "app = Flask(__name__,root_path=rootPath)"
      ],
      "execution_count": 0,
      "outputs": []
    },
    {
      "cell_type": "code",
      "metadata": {
        "id": "kO8FS3CzGdFM",
        "colab_type": "code",
        "colab": {}
      },
      "source": [
        "\n",
        "run_with_ngrok(app)"
      ],
      "execution_count": 0,
      "outputs": []
    },
    {
      "cell_type": "code",
      "metadata": {
        "id": "1-3dKPhc4OIJ",
        "colab_type": "code",
        "colab": {}
      },
      "source": [
        "from datetime import datetime\n",
        "from pytz import timezone\n",
        "import pytz"
      ],
      "execution_count": 0,
      "outputs": []
    },
    {
      "cell_type": "code",
      "metadata": {
        "id": "zoQ2XarkDAMw",
        "colab_type": "code",
        "colab": {}
      },
      "source": [
        "@app.route('/predict',methods=['POST'])\n",
        "def predict():\n",
        "    boardingdate = request.form['boardingdate']\n",
        "    boardingtime = request.form['boardingtime']\n",
        "    choices = request.form['choices']\n",
        "\n",
        "    s1=datetime.now().astimezone(timezone('Brazil/DeNoronha')).strftime('%I:%M %p')\n",
        "    s2= boardingtime\n",
        "    FMT = '%I:%M %p'\n",
        "    tdelta = datetime.strptime(s2, FMT) - datetime.strptime(s1, FMT)\n",
        "    time_param = abs(tdelta.total_seconds())\n",
        "    print(boardingdate)\n",
        "    print(boardingtime)\n",
        "    print(choices)\n",
        "\n",
        "    d1={0:\"Low risk\",1:\"Medium risk\",2:\"High risk\"}\n",
        "    d2={\"Low risk\":\"cyan\",\"Medium risk\":\"orange\",\"High risk\":\"red\"}\n",
        "    feature_lst = return_features(int(choices))\n",
        "    if(int(choices)==3):\n",
        "      final_features1 = [np.array(feature_lst[0])]\n",
        "      final_features2 = [np.array(feature_lst[1])]\n",
        "      final_features3 = [np.array(feature_lst[2])]\n",
        "      final_features4 = [np.array(feature_lst[3])]\n",
        "      final_features5 = [np.array(feature_lst[4])]\n",
        "      final_features6 = [np.array(feature_lst[5])]\n",
        "      final_features7 = [np.array(feature_lst[6])]\n",
        "\n",
        "      pred1 = pickle_loc1.predict(final_features1)\n",
        "      pred2 = pickle_loc4.predict(final_features2)\n",
        "      pred3 = pickle_loc5.predict(final_features3)\n",
        "      pred4 = pickle_loc21.predict(final_features4)\n",
        "      pred5 = pickle_loc8.predict(final_features5)\n",
        "      pred6 = pickle_loc13.predict(final_features6)\n",
        "      pred7 = pickle_loc16.predict(final_features7)\n",
        "      output1 = d1[pred1[0]]\n",
        "      output2 = d1[pred2[0]]\n",
        "      output3 = d1[pred3[0]]\n",
        "      output4 = d1[pred4[0]]\n",
        "      output5 = d1[pred5[0]]\n",
        "      output6 = d1[pred6[0]]\n",
        "      output7 = d1[pred7[0]]\n",
        "\n",
        "      output11 = d2[output1]\n",
        "      output12 = d2[output2]\n",
        "      output13 = d2[output3]\n",
        "      output14 = d2[output4]\n",
        "      output15 = d2[output5]\n",
        "      output16 = d2[output6]\n",
        "      output17 = d2[output7]\n",
        "     \n",
        "      return render_template('Shopping.html', var_1 = feature_lst[0][0] , var_2 = int(int(feature_lst[0][1])/60) , var_3 = output1 , var_4 = output11 , var_5 = feature_lst[1][0] , var_6 = int(int(feature_lst[1][1])/60) , var_7 = output2 , var_8 = output12 , var_9 = feature_lst[2][0],\n",
        "      var_10 = int(int(feature_lst[2][1])/60) , var_11 = output3, var_12 = output13 , var_13 = feature_lst[3][0] , var_14 = int(int(feature_lst[3][1])/60) , var_15 = output4 , var_16 = output14 , var_17 = feature_lst[4][0] , var_18 = int(int(feature_lst[4][1])/60) , var_19 = output5,\n",
        "      var_20 = output15 , var_21 = feature_lst[5][0] , var_22 = int(int(feature_lst[5][1])/60) , var_23 = output6 , var_24 = output16 ,  var_25 = feature_lst[6][0] , var_26 = int(int(feature_lst[6][1])/60) , var_27 = output7 , var_28 = output17 )\n",
        "\n",
        "    elif(int(choices)==1):\n",
        "      final_features1 = [np.array(feature_lst[0])]\n",
        "      final_features2 = [np.array(feature_lst[1])]\n",
        "      final_features3 = [np.array(feature_lst[2])]\n",
        "      final_features4 = [np.array(feature_lst[3])]\n",
        "      final_features5 = [np.array(feature_lst[4])]\n",
        "      final_features6 = [np.array(feature_lst[5])]\n",
        "      final_features7 = [np.array(feature_lst[6])]\n",
        "      final_features8 = [np.array(feature_lst[7])]\n",
        "      final_features9 = [np.array(feature_lst[8])]\n",
        "      final_features10 = [np.array(feature_lst[9])]\n",
        "      final_features11 = [np.array(feature_lst[10])]\n",
        "      final_features12 = [np.array(feature_lst[11])]\n",
        "      final_features13 = [np.array(feature_lst[12])]\n",
        "      final_features14 = [np.array(feature_lst[13])]\n",
        "      final_features15 = [np.array(feature_lst[14])]\n",
        "      final_features16 = [np.array(feature_lst[15])]\n",
        "\n",
        "\n",
        "      pred1 = pickle_loc14.predict(final_features1)\n",
        "      pred2 = pickle_loc2.predict(final_features2)\n",
        "      pred3 = pickle_loc3.predict(final_features3)\n",
        "      pred4 = pickle_loc6.predict(final_features4)\n",
        "      pred5 = pickle_loc7.predict(final_features5)\n",
        "      pred6 = pickle_loc9.predict(final_features6)\n",
        "      pred7 = pickle_loc10.predict(final_features7)\n",
        "      pred8 = pickle_loc12.predict(final_features8)\n",
        "      pred9 = pickle_loc15.predict(final_features9)\n",
        "      pred10 = pickle_loc23.predict(final_features10)\n",
        "      pred11 = pickle_loc19.predict(final_features11)\n",
        "      pred12 = pickle_loc22.predict(final_features12)\n",
        "      pred13 = pickle_loc26.predict(final_features13)\n",
        "      pred14 = pickle_loc17.predict(final_features14)\n",
        "      pred15 = pickle_loc11.predict(final_features15)\n",
        "      pred16 = pickle_loc20.predict(final_features16)\n",
        "\n",
        " \n",
        "      output1 = d1[pred1[0]]\n",
        "      output2 = d1[pred2[0]]\n",
        "      output3 = d1[pred3[0]]\n",
        "      output4 = d1[pred4[0]]\n",
        "      output5 = d1[pred5[0]]\n",
        "      output6 = d1[pred6[0]]\n",
        "      output7 = d1[pred7[0]]\n",
        "      output8 = d1[pred8[0]]\n",
        "      output9 = d1[pred9[0]]\n",
        "      output10 = d1[pred10[0]]\n",
        "      output11 = d1[pred11[0]]\n",
        "      output12 = d1[pred12[0]]\n",
        "      output13 = d1[pred13[0]]\n",
        "      output14 = d1[pred14[0]]\n",
        "      output15 = d1[pred15[0]]\n",
        "      output16 = d1[pred16[0]]\n",
        "\n",
        "      output21 = d2[output1]\n",
        "      output22 = d2[output2]\n",
        "      output23 = d2[output3]\n",
        "      output24 = d2[output4]\n",
        "      output25 = d2[output5]\n",
        "      output26 = d2[output6]\n",
        "      output27 = d2[output7]\n",
        "      output28 = d2[output8]\n",
        "      output29 = d2[output9]\n",
        "      output210 = d2[output10]\n",
        "      output211 = d2[output11]\n",
        "      output212 = d2[output12]\n",
        "      output213 = d2[output13]\n",
        "      output214 = d2[output14]\n",
        "      output215 = d2[output15]\n",
        "      output216 = d2[output16]\n",
        "\n",
        "      return render_template('Dining.html',var_1 = feature_lst[0][0] ,var_2 = int(int(feature_lst[0][1])/60),var_3 = output1 , var_4 = output21,var_5 = feature_lst[1][0] ,var_6 = int(int(feature_lst[1][1])/60),var_7 = output2 , var_8 = output22,var_9 = feature_lst[2][0] ,var_10 = int(int(feature_lst[2][1])/60),var_11 = output3 , var_12 = output23,\n",
        "      var_13 = feature_lst[3][0] ,var_14 = int(int(feature_lst[3][1])/60),var_15 = output4 , var_16 = output24,var_17 = feature_lst[4][0] ,var_18 = int(int(feature_lst[4][1])/60),var_19 = output5 , var_20 = output25,var_21 = feature_lst[5][0] ,var_22 = int(int(feature_lst[5][1])/60),var_23 = output6 , var_24 = output26,\n",
        "      var_25 = feature_lst[6][0] ,var_26 = int(int(feature_lst[6][1])/60),var_27 = output7 , var_28 = output27,var_29 = feature_lst[7][0] ,var_30 = int(int(feature_lst[7][1])/60),var_31 = output8 , var_32 = output28,var_33 = feature_lst[8][0] ,var_34 = int(int(feature_lst[8][1])/60),var_35 = output9 , var_36 = output29,\n",
        "      var_37 = feature_lst[9][0] ,var_38 = int(int(feature_lst[9][1])/60),var_39 = output10 , var_40 = output210,var_41 = feature_lst[10][0] ,var_42 = int(int(feature_lst[10][1])/60),var_43 = output11 , var_44 = output211,var_45 = feature_lst[11][0] ,var_46 = int(int(feature_lst[11][1])/60),var_47 = output12 , var_48 = output212,\n",
        "      var_49 = feature_lst[12][0] ,var_50 = int(int(feature_lst[12][1])/60),var_51 = output13 , var_52 = output213,var_53 = feature_lst[13][0] ,var_54 = int(int(feature_lst[13][1])/60),var_55 = output14 , var_56 = output214,var_57 = feature_lst[14][0] ,var_58 = int(int(feature_lst[14][1])/60),var_59 = output15 , var_60 = output215,\n",
        "      var_61 = feature_lst[15][0] ,var_62 = int(int(feature_lst[15][1])/60),var_63 = output16 , var_64 = output216)\n",
        "    elif(int(choices)==2):\n",
        "      final_features1 = [np.array(feature_lst[0])]\n",
        "      final_features2 = [np.array(feature_lst[1])]\n",
        "      final_features3 = [np.array(feature_lst[2])]\n",
        "      pred1 = pickle_loc24.predict(final_features1)\n",
        "      pred2 = pickle_loc16.predict(final_features2)\n",
        "      pred3 = pickle_loc18.predict(final_features3)\n",
        "      output1 = d1[pred1[0]]\n",
        "      output2 = d1[pred2[0]]\n",
        "      output3 = d1[pred3[0]]\n",
        "\n",
        "      output11 = d2[output1]\n",
        "      output12 = d2[output2]\n",
        "      output13 = d2[output3]\n",
        "      return render_template('ATM.html',var_1 = feature_lst[0][0],var_2 = int(int(feature_lst[0][1])/60),var_3 = output1, var_4 = output11 , var_5 = feature_lst[1][0] , var_6 = int(int(feature_lst[1][1])/60) , var_7 = output2,\n",
        "      var_8 = output12 ,var_9 = feature_lst[2][0] , var_10 = int(int(feature_lst[2][1])/60) , var_11 = output3 , var_12 = output13 )"
      ],
      "execution_count": 0,
      "outputs": []
    },
    {
      "cell_type": "code",
      "metadata": {
        "id": "mbxD0epyb9mR",
        "colab_type": "code",
        "colab": {}
      },
      "source": [
        "def return_features(val):\n",
        "    lst1=[]\n",
        "    if(val==3):\n",
        "      float_features_loc1 = [4.2,10.0,149.085896,167.716133,218.134924,180.059558,137.533749,163.645618,111.811099,167.585565,107.903928]\n",
        "      float_features_loc4 = [5.0,\t412.000000,\t123.690751,\t103.257237,\t46.656806,\t129.146605,\t151.741918,\t151.007179,\t183.432375,\t128.006762,\t177.658651]\n",
        "      float_features_loc5 = [5.0,\t204.000000,\t218.519336,\t233.443769,\t265.69384,\t200.025329,\t163.645935,\t177.660316,\t130.91679,\t192.909787,\t135.06637]\n",
        "      float_features_loc21 = [4.7,\t\t30.00000,\t42.531681,\t23.328383,\t46.656806, 99.667283,\t97.647647,\t112.628786,\t122.873597,\t89.185983,\t114.074951]\n",
        "      float_features_loc8 = [3.8,\t519.00000,\t53.95119,\t45.470653,\t92.973368,\t155.377528,\t147.221409,\t166.429079,\t166.826217,\t143.963858,\t156.587978]\n",
        "      float_features_loc13 = [5.0,\t57.000000,\t82.129313,\t102.661642,\t167.58486,\t165.651829,\t129.146568,\t159.306403,\t122.059559,\t150.619855,\t112.109045]\n",
        "      float_features_loc25 = [5.0,\t\t197.000000,\t103.257163,\t123.690662,\t190.026138,\t188.40493,\t151.007079,\t181.208555,\t141.433303,\t173.422534,\t132.015174]\n",
        "      lst1.append(float_features_loc1)\n",
        "      lst1.append(float_features_loc4)\n",
        "      lst1.append(float_features_loc5)\n",
        "      lst1.append(float_features_loc21)\n",
        "      lst1.append(float_features_loc8)\n",
        "      lst1.append(float_features_loc13)\n",
        "      lst1.append(float_features_loc25)\n",
        "      \n",
        "      return lst1\n",
        "    elif(val==1):\n",
        "      float_features_loc14 = [3.0,\t\t5192.000000,\t224.986504,\t236.853308,\t257.283974,\t181.633207,\t151.742497,\t158.343263,\t120.607986,\t177.659426,\t128.007146]\n",
        "      float_features_loc2 = [4.4,2133.000000,95.012938,75.198745,56.314389,142.458922,152.892123,160.903504,181.208495,136.503631,173.250873]\n",
        "      float_features_loc3 = [4.1 , 28.000000,\t236.023914,\t253.256573,\t294.561923,\t237.160146,\t197.867614,\t215.875489,\t165.746421,\t228.287689,\t167.585917]\n",
        "      float_features_loc6 = [3.4,\t1293.000000,\t153.992462,\t174.524791,\t238.447782,\t224.301629,\t183.432281,\t212.83369,\t165.651829,\t209.955921,\t158.462682]\n",
        "      float_features_loc7 = [3.9,\t10.000000,\t144.152352,\t164.631567,\t226.939315,\t209.95604,\t168.837627,\t198.102993,\t150.619916,\t195.723963,\t143.532321]\n",
        "      float_features_loc9 = [3.8,\t12.757478,\t174.902693,\t192.131833,\t235.427532,\t185.123762,\t143.727243,\t165.746303,\t113.470273,\t174.525937,\t112.928548]\n",
        "      float_features_loc10 = [2.7,\t28.00000,\t167.58486,\t187.753833,\t246.38848,\t219.470375,\t177.18931,\t204.931184,\t154.34044,\t206.064387,\t149.086157]\n",
        "      float_features_loc12 = [4.4,\t\t34.000000,\t61.143906,\t79.170896,\t149.085636,\t171.063029,\t142.45891,\t170.883362,\t145.420668,\t156.220773,\t134.466556]\n",
        "      float_features_loc15 = [4.1,\t83.000000,\t181.441624,\t198.102895,\t238.789523,\t184.792304,\t144.153293,\t164.632763,\t112.92863,\t174.87699,\t113.470273]\n",
        "      float_features_loc23 = [4.3,\t\t34.000000,\t102.465289,\t121.305041,\t174.876227,\t149.086244,\t107.716856,\t136.974537,\t90.604337,\t135.065962,\t82.825964]\n",
        "      float_features_loc19 = [4.4,\t\t0.000000,\t195.747554,\t211.283714,\t246.870174,\t186.114997,\t147.517101,\t164.632883,\t115.080149,\t177.660066,\t117.714121]\n",
        "      float_features_loc22 = [4.1,\t30.000000,\t137.533182,\t157.535584,\t215.58992,\t190.966978,\t149.086157,\t177.658845,\t128.64178,\t177.18931,\t122.288281]\n",
        "      float_features_loc26 = [3.9,\t190.0000,\t46.656727,\t65.457846,\t135.065471,\t156.220803,\t128.550955,\t156.58801,\t133.285673,\t141.433277,\t122.247405]\n",
        "      float_features_loc17 = [2.5,\t78.000000,\t238.74049,\t256.612937,\t300.796582,\t246.63857,\t206.51589,\t225.857425,\t174.877117,\t237.159974,\t175.925819]\n",
        "      float_features_loc11 = [4.1,\t\t1858.000000,\t66.444857,\t69.544931,\t88.594572,\t60.402912,\t33.222427,\t59.055036,\t53.951313,\t45.302176,\t45.302176]\n",
        "      float_features_loc20 = [2.0,\t\t10.000000,\t248.477991,\t264.104815,\t298.172835,\t232.545917,\t196.375185,\t210.049129,\t163.64604,\t225.598188,\t167.717059]\n",
        "\n",
        "      lst1.append(float_features_loc14)\n",
        "      lst1.append(float_features_loc2)\n",
        "      lst1.append(float_features_loc3)\n",
        "      lst1.append(float_features_loc6)\n",
        "      lst1.append(float_features_loc7)\n",
        "      lst1.append(float_features_loc9)\n",
        "      lst1.append(float_features_loc10)\n",
        "      lst1.append(float_features_loc12)\n",
        "      lst1.append(float_features_loc15)\n",
        "      lst1.append(float_features_loc23)\n",
        "      lst1.append(float_features_loc19)\n",
        "      lst1.append(float_features_loc22)\n",
        "      lst1.append(float_features_loc26)\n",
        "      lst1.append(float_features_loc17)\n",
        "      lst1.append(float_features_loc11)\n",
        "      lst1.append(float_features_loc20)\n",
        "\n",
        "      return lst1 \n",
        "    elif(val==2):\n",
        "      float_features_loc24 = [2.5,\t11829.000000,\t11.074143,\t23.328383,\t85.063449,\t107.795579,\t88.593141,\t112.628786,\t104.31741,\t93.793916,\t93.793916]\n",
        "      float_features_loc16 = [4.7,\t\t31.00000,\t107.903501,\t127.59513,\t184.79136,\t163.299234,\t122.288281,\t151.742063,\t105.705043,\t149.086157,\t97.873777]\n",
        "      float_features_loc18 = [4.4,\t\t2462.000000,\t113.469453,\t93.056728,\t53.951227,\t141.433303,\t158.165823,\t161.853829,\t188.40493,\t137.872866,\t181.441542]\n",
        "\n",
        "      lst1.append(float_features_loc24)\n",
        "      lst1.append(float_features_loc16)\n",
        "      lst1.append(float_features_loc18)\n",
        "\n",
        "      return lst1\n",
        "    "
      ],
      "execution_count": 0,
      "outputs": []
    },
    {
      "cell_type": "code",
      "metadata": {
        "id": "PG9KIeo3GBXL",
        "colab_type": "code",
        "outputId": "15b2f117-fe7f-45a3-f14d-7633288fee0b",
        "colab": {
          "base_uri": "https://localhost:8080/",
          "height": 289
        }
      },
      "source": [
        "@app.route(\"/\")\n",
        "def home():\n",
        "  return render_template('form.html')\n",
        "\n",
        "app.run()"
      ],
      "execution_count": 0,
      "outputs": [
        {
          "output_type": "stream",
          "text": [
            " * Serving Flask app \"__main__\" (lazy loading)\n",
            " * Environment: production\n",
            "\u001b[31m   WARNING: This is a development server. Do not use it in a production deployment.\u001b[0m\n",
            "\u001b[2m   Use a production WSGI server instead.\u001b[0m\n",
            " * Debug mode: off\n"
          ],
          "name": "stdout"
        },
        {
          "output_type": "stream",
          "text": [
            " * Running on http://127.0.0.1:5000/ (Press CTRL+C to quit)\n"
          ],
          "name": "stderr"
        },
        {
          "output_type": "stream",
          "text": [
            " * Running on http://d413fb06.ngrok.io\n",
            " * Traffic stats available on http://127.0.0.1:4040\n"
          ],
          "name": "stdout"
        },
        {
          "output_type": "stream",
          "text": [
            "127.0.0.1 - - [12/May/2020 05:43:37] \"\u001b[37mGET / HTTP/1.1\u001b[0m\" 200 -\n",
            "127.0.0.1 - - [12/May/2020 05:43:38] \"\u001b[37mGET /static/css/materialize.css HTTP/1.1\u001b[0m\" 200 -\n",
            "127.0.0.1 - - [12/May/2020 05:43:38] \"\u001b[37mGET /static/css/style.css HTTP/1.1\u001b[0m\" 200 -\n",
            "127.0.0.1 - - [12/May/2020 05:43:38] \"\u001b[33mGET /static/img/r01_editada.jpg HTTP/1.1\u001b[0m\" 404 -\n",
            "127.0.0.1 - - [12/May/2020 05:43:38] \"\u001b[37mGET /static/js/materialize.js HTTP/1.1\u001b[0m\" 200 -\n",
            "127.0.0.1 - - [12/May/2020 05:43:38] \"\u001b[37mGET /static/js/init.js HTTP/1.1\u001b[0m\" 200 -\n",
            "127.0.0.1 - - [12/May/2020 05:43:38] \"\u001b[37mGET /static/img/01_editada.jpg HTTP/1.1\u001b[0m\" 200 -\n",
            "127.0.0.1 - - [12/May/2020 05:43:39] \"\u001b[33mGET /favicon.ico HTTP/1.1\u001b[0m\" 404 -\n"
          ],
          "name": "stderr"
        }
      ]
    }
  ]
}